{
 "metadata": {
  "name": "",
  "signature": "sha256:e052ec69f3f5596072893d95a44b3e177f9ed7da6e895114b48938226821e14a"
 },
 "nbformat": 3,
 "nbformat_minor": 0,
 "worksheets": [
  {
   "cells": [
    {
     "cell_type": "code",
     "collapsed": false,
     "input": [
      "from PIL import Image\n",
      "import random\n",
      "import os\n",
      "import numpy as np\n",
      "from glob import glob\n",
      "import torch\n",
      "from torch.utils.data import Dataset\n",
      "\n",
      "data_seq = [1,3,4,5,6,7,8,9,10,11,13,14,15,16,17,18,19,20,21,23,24,25]\n",
      "dir_root = 'CaDISv2/Video'\n",
      "img_dir_list = []\n",
      "for seq_idx in data_seq:\n",
      "    img_dir_list = img_dir_list + glob(dir_root+'{0:02d}'.format(seq_idx)+'/Images/*.png')\n",
      "    random.shuffle(img_dir_list)\n"
     ],
     "language": "python",
     "metadata": {},
     "outputs": [],
     "prompt_number": 41
    },
    {
     "cell_type": "code",
     "collapsed": false,
     "input": [
      "len(img_dir_list)"
     ],
     "language": "python",
     "metadata": {},
     "outputs": [
      {
       "metadata": {},
       "output_type": "pyout",
       "prompt_number": 42,
       "text": [
        "4084"
       ]
      }
     ],
     "prompt_number": 42
    },
    {
     "cell_type": "code",
     "collapsed": false,
     "input": [
      "img_dir_list[0].replace('Images','Labels')"
     ],
     "language": "python",
     "metadata": {},
     "outputs": [
      {
       "metadata": {},
       "output_type": "pyout",
       "prompt_number": 15,
       "text": [
        "'CaDISv2/Video08/Labels/Video8_frame014830.png'"
       ]
      }
     ],
     "prompt_number": 15
    },
    {
     "cell_type": "code",
     "collapsed": false,
     "input": [
      "_img = Image.open(img_dir_list[0]).convert('RGB')\n",
      "print(np.array(_img).shape)"
     ],
     "language": "python",
     "metadata": {},
     "outputs": [
      {
       "output_type": "stream",
       "stream": "stdout",
       "text": [
        "(540, 960, 3)\n"
       ]
      }
     ],
     "prompt_number": 19
    },
    {
     "cell_type": "code",
     "collapsed": false,
     "input": [
      "from torchvision import transforms\n",
      "_img = transforms.ToTensor()(_img)\n"
     ],
     "language": "python",
     "metadata": {},
     "outputs": [],
     "prompt_number": 21
    },
    {
     "cell_type": "code",
     "collapsed": false,
     "input": [
      "print(_img.size())"
     ],
     "language": "python",
     "metadata": {},
     "outputs": [
      {
       "output_type": "stream",
       "stream": "stdout",
       "text": [
        "torch.Size([3, 540, 960])\n"
       ]
      }
     ],
     "prompt_number": 26
    },
    {
     "cell_type": "code",
     "collapsed": false,
     "input": [
      "_tar = Image.open(img_dir_list[0].replace('Images','Labels')).convert('L')\n",
      "print(np.unique(np.array(_tar)))"
     ],
     "language": "python",
     "metadata": {},
     "outputs": [
      {
       "output_type": "stream",
       "stream": "stdout",
       "text": [
        "[ 0  1  3  4  5  6 15 35]\n"
       ]
      }
     ],
     "prompt_number": 38
    },
    {
     "cell_type": "code",
     "collapsed": false,
     "input": [
      "_tar = transforms.ToTensor()(_tar)"
     ],
     "language": "python",
     "metadata": {},
     "outputs": [],
     "prompt_number": 30
    },
    {
     "cell_type": "code",
     "collapsed": false,
     "input": [
      "print(_tar.max())"
     ],
     "language": "python",
     "metadata": {},
     "outputs": [
      {
       "output_type": "stream",
       "stream": "stdout",
       "text": [
        "tensor(0.1373)\n"
       ]
      }
     ],
     "prompt_number": 34
    },
    {
     "cell_type": "code",
     "collapsed": false,
     "input": [
      "import torchvision.transforms.functional as TF\n",
      "mask = TF.to_tensor(_tar)\n",
      "print(mask.max())"
     ],
     "language": "python",
     "metadata": {},
     "outputs": [
      {
       "output_type": "stream",
       "stream": "stdout",
       "text": [
        "tensor(0.1373)\n"
       ]
      }
     ],
     "prompt_number": 40
    },
    {
     "cell_type": "code",
     "collapsed": false,
     "input": [],
     "language": "python",
     "metadata": {},
     "outputs": []
    }
   ],
   "metadata": {}
  }
 ]
}