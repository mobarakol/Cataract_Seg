{
 "metadata": {
  "name": "",
  "signature": "sha256:6951aa8c949f8d90649bbe41e318f7ba0b1e3e8c75d23da2b8b4c754e84768a6"
 },
 "nbformat": 3,
 "nbformat_minor": 0,
 "worksheets": [
  {
   "cells": [
    {
     "cell_type": "code",
     "collapsed": false,
     "input": [
      "from PIL import Image\n",
      "import random\n",
      "import os\n",
      "import numpy as np\n",
      "from glob import glob\n",
      "import torch\n",
      "from torch.utils.data import Dataset\n",
      "\n",
      "dir_root = '../CaDISv2/Video'\n"
     ],
     "language": "python",
     "metadata": {},
     "outputs": []
    }
   ],
   "metadata": {}
  }
 ]
}